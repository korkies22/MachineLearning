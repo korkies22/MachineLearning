{
 "cells": [
  {
   "cell_type": "markdown",
   "metadata": {},
   "source": [
    "# Reto 4"
   ]
  },
  {
   "cell_type": "code",
   "execution_count": 752,
   "metadata": {},
   "outputs": [],
   "source": [
    "import numpy as np\n",
    "import pandas as pd\n",
    "import math\n",
    "from sklearn.linear_model import LinearRegression\n",
    "from sklearn.model_selection import train_test_split\n",
    "from random import randrange"
   ]
  },
  {
   "cell_type": "code",
   "execution_count": 753,
   "metadata": {},
   "outputs": [],
   "source": [
    "data_wine = pd.read_csv('./data/winequality-white.csv',sep=';')"
   ]
  },
  {
   "cell_type": "code",
   "execution_count": 754,
   "metadata": {},
   "outputs": [],
   "source": [
    "x= data_wine.iloc[:,0:11]\n",
    "y= data_wine.iloc[:,11:12]"
   ]
  },
  {
   "cell_type": "code",
   "execution_count": 755,
   "metadata": {},
   "outputs": [],
   "source": [
    "xTrain, xTest, yTrain, yTest = train_test_split(x, y, test_size = 2000, random_state = 0)"
   ]
  },
  {
   "cell_type": "code",
   "execution_count": 756,
   "metadata": {},
   "outputs": [],
   "source": [
    "newData= pd.concat([xTrain,yTrain], axis = 1)"
   ]
  },
  {
   "cell_type": "code",
   "execution_count": 757,
   "metadata": {},
   "outputs": [],
   "source": [
    "dataTrain1= newData.sample(100)\n",
    "xTrain1= dataTrain1.iloc[:,0:11]\n",
    "yTrain1= dataTrain1.iloc[:,11]\n",
    "dataTrain2= newData.sample(1000)\n",
    "xTrain2= dataTrain2.iloc[:,0:11]\n",
    "yTrain2= dataTrain2.iloc[:,11]\n",
    "dataTrain3= newData.sample(2898)\n",
    "xTrain3= dataTrain3.iloc[:,0:11]\n",
    "yTrain3= dataTrain3.iloc[:,11]"
   ]
  },
  {
   "cell_type": "code",
   "execution_count": 758,
   "metadata": {},
   "outputs": [],
   "source": [
    "def calc_errors(x,y,w):\n",
    "    err=0\n",
    "    for i in range(0,x.shape[0]):\n",
    "        err+=(y[i]-(x[i]*w).sum())**2\n",
    "    return err"
   ]
  },
  {
   "cell_type": "code",
   "execution_count": 759,
   "metadata": {},
   "outputs": [],
   "source": [
    "def gradient_desc(nX,nY,minNumErrors=29,minError=0.0001):\n",
    "    a=nX.to_numpy()\n",
    "    y=nY.to_numpy()\n",
    "    x = np.ones((a.shape[0],a.shape[1]+1))\n",
    "    x[:,:-1] = a\n",
    "    wNumber= x.shape[1]\n",
    "    numData= x.shape[0]\n",
    "    H=[[0] * wNumber]* wNumber\n",
    "    for i in range(0, numData):\n",
    "        xi= x[i]\n",
    "        H+=xi.transpose()*xi\n",
    "    ei=np.linalg.eigvals(H)\n",
    "    n=20/max(ei)\n",
    "    ws= [0.01] * wNumber\n",
    "    errorA=1\n",
    "    errorP=0\n",
    "    j=0\n",
    "    minT=10\n",
    "    while abs(errorP-errorA) > minError:\n",
    "        i= randrange(numData)\n",
    "        g=(x[i]*ws).sum()\n",
    "        error=(g-y[i])         \n",
    "        ws= ws - n*error*x[i]\n",
    "        j=(j+1)%minNumErrors\n",
    "        if j==0:\n",
    "            errorP=errorA\n",
    "            errorA=calc_errors(x,y,ws)\n",
    "            if abs(errorP-errorA)< minT:\n",
    "                minT=abs(errorP-errorA)\n",
    "                print(minT)\n",
    "    return ws\n",
    "    "
   ]
  },
  {
   "cell_type": "code",
   "execution_count": 760,
   "metadata": {},
   "outputs": [
    {
     "name": "stdout",
     "output_type": "stream",
     "text": [
      "4.515970282934916\n",
      "2.3702255013346303\n",
      "1.9153876844060278\n",
      "0.41222384100041154\n",
      "0.19850155004201042\n",
      "0.1434834004927268\n",
      "0.0008818146638418511\n",
      "0.0007954657668634013\n",
      "0.0006666029229620563\n",
      "0.0005389974366210026\n",
      "0.00017582904268920174\n",
      "3.0291051416497794e-05\n",
      "[-0.02395881 -0.011561    0.01562514  0.0259518   0.01186954  0.01958753\n",
      " -0.001024    0.04921519  0.18270097 -0.00105647  0.43863709  0.04990813]\n"
     ]
    }
   ],
   "source": [
    "linearRegr1 = gradient_desc(xTrain1, yTrain1)\n",
    "print(linearRegr1)"
   ]
  },
  {
   "cell_type": "code",
   "execution_count": 761,
   "metadata": {},
   "outputs": [
    {
     "name": "stdout",
     "output_type": "stream",
     "text": [
      "8.748516320522413\n",
      "0.07332105292607594\n",
      "0.037181861995122745\n",
      "0.0110905830658794\n",
      "0.008858624171580232\n",
      "0.004822975488878001\n",
      "0.003045067943048707\n",
      "0.0029964972237621623\n",
      "0.0015192965431651828\n",
      "0.001224515307171714\n",
      "0.00044350772907364444\n",
      "0.00041288253373750194\n",
      "0.00010470037045706704\n",
      "1.8599047393763612e-05\n",
      "[ 0.131579    0.00903925  0.01743317  0.01844746  0.01012781  0.01147277\n",
      " -0.00150924  0.03988548  0.11735742  0.02757427  0.39513052  0.04027728]\n"
     ]
    }
   ],
   "source": [
    "linearRegr2 = gradient_desc(xTrain2, yTrain2)\n",
    "print(linearRegr2)"
   ]
  },
  {
   "cell_type": "code",
   "execution_count": null,
   "metadata": {},
   "outputs": [
    {
     "name": "stdout",
     "output_type": "stream",
     "text": [
      "5.513917737773227\n",
      "0.40077811683295295\n",
      "0.29464702488621697\n",
      "0.21674456326763902\n",
      "0.19999781149272167\n",
      "0.023067291758707142\n",
      "0.009500175294306246\n",
      "0.007173650996264769\n",
      "0.0007851170621506753\n"
     ]
    }
   ],
   "source": [
    "linearRegr3 = gradient_desc(xTrain3, yTrain3)\n",
    "print(linearRegr3)"
   ]
  },
  {
   "cell_type": "code",
   "execution_count": null,
   "metadata": {},
   "outputs": [],
   "source": [
    "def calc_r2(nX,nY,w):\n",
    "    a=nX.to_numpy()\n",
    "    y=nY.to_numpy()\n",
    "    x = np.ones((a.shape[0],a.shape[1]+1))\n",
    "    x[:,:-1] = a\n",
    "    wNumber= x.shape[1]\n",
    "    numData= x.shape[0]\n",
    "    u=0\n",
    "    v=0\n",
    "    ym= y.mean()\n",
    "    err=0\n",
    "    for i in range(0, numData):\n",
    "        xi=x[i]\n",
    "        yi=y[i]\n",
    "        yp=(xi*w).sum()\n",
    "        u+=(yi-yp)**2\n",
    "        v+=(yi-ym)**2\n",
    "    r2=1-(u/v)\n",
    "    return r2\n",
    "    "
   ]
  },
  {
   "cell_type": "code",
   "execution_count": null,
   "metadata": {},
   "outputs": [],
   "source": [
    "r21 = calc_r2(xTest, yTest,linearRegr1)\n",
    "print(r21)"
   ]
  },
  {
   "cell_type": "code",
   "execution_count": null,
   "metadata": {},
   "outputs": [],
   "source": [
    "r22 = calc_r2(xTest, yTest,linearRegr2)\n",
    "print(r22)"
   ]
  },
  {
   "cell_type": "code",
   "execution_count": null,
   "metadata": {},
   "outputs": [],
   "source": [
    "r23 = calc_r2(xTest, yTest,linearRegr3)\n",
    "print(r23)"
   ]
  },
  {
   "cell_type": "code",
   "execution_count": null,
   "metadata": {},
   "outputs": [],
   "source": []
  },
  {
   "cell_type": "code",
   "execution_count": null,
   "metadata": {},
   "outputs": [],
   "source": []
  },
  {
   "cell_type": "code",
   "execution_count": null,
   "metadata": {},
   "outputs": [],
   "source": []
  },
  {
   "cell_type": "code",
   "execution_count": null,
   "metadata": {},
   "outputs": [],
   "source": []
  }
 ],
 "metadata": {
  "kernelspec": {
   "display_name": "Python 3",
   "language": "python",
   "name": "python3"
  },
  "language_info": {
   "codemirror_mode": {
    "name": "ipython",
    "version": 3
   },
   "file_extension": ".py",
   "mimetype": "text/x-python",
   "name": "python",
   "nbconvert_exporter": "python",
   "pygments_lexer": "ipython3",
   "version": "3.7.3"
  }
 },
 "nbformat": 4,
 "nbformat_minor": 2
}
