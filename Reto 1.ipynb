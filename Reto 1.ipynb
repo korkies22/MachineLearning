{
 "cells": [
  {
   "cell_type": "markdown",
   "metadata": {},
   "source": [
    "# Reto 1"
   ]
  },
  {
   "cell_type": "code",
   "execution_count": null,
   "metadata": {},
   "outputs": [],
   "source": [
    "import numpy as np\n",
    "import pandas as pd\n",
    "from sklearn.linear_model import LogisticRegression\n",
    "from sklearn.model_selection import train_test_split"
   ]
  },
  {
   "cell_type": "code",
   "execution_count": null,
   "metadata": {},
   "outputs": [],
   "source": [
    "data_pulsar = pd.read_csv('./data/HTRU_2.csv', header=None)"
   ]
  },
  {
   "cell_type": "code",
   "execution_count": null,
   "metadata": {},
   "outputs": [],
   "source": [
    "x= data_pulsar.iloc[:,0:8]\n",
    "y= data_pulsar.iloc[:,8:9]"
   ]
  },
  {
   "cell_type": "code",
   "execution_count": null,
   "metadata": {},
   "outputs": [],
   "source": [
    "xTrain, xTest, yTrain, yTest = train_test_split(x, y, train_size = 10000, random_state = 0)"
   ]
  },
  {
   "cell_type": "code",
   "execution_count": null,
   "metadata": {},
   "outputs": [],
   "source": [
    "newData= pd.concat([xTrain,yTrain], axis = 1)"
   ]
  },
  {
   "cell_type": "code",
   "execution_count": null,
   "metadata": {},
   "outputs": [],
   "source": [
    "dataTrain1= newData.sample(100)\n",
    "xTrain1= dataTrain1.iloc[:,0:8]\n",
    "yTrain1= dataTrain1.iloc[:,8]\n",
    "dataTrain2= newData.sample(500)\n",
    "xTrain2= dataTrain2.iloc[:,0:8]\n",
    "yTrain2= dataTrain2.iloc[:,8]\n",
    "dataTrain3= newData.sample(1000)\n",
    "xTrain3= dataTrain3.iloc[:,0:8]\n",
    "yTrain3= dataTrain3.iloc[:,8]\n",
    "dataTrain4= newData.sample(5000)\n",
    "xTrain4= dataTrain4.iloc[:,0:8]\n",
    "yTrain4= dataTrain4.iloc[:,8]"
   ]
  },
  {
   "cell_type": "code",
   "execution_count": null,
   "metadata": {},
   "outputs": [],
   "source": [
    "logisticRegr1 = LogisticRegression(solver='liblinear')\n",
    "logisticRegr1.fit(xTrain1, yTrain1)\n",
    "logisticRegr2 = LogisticRegression(solver='liblinear')\n",
    "logisticRegr2.fit(xTrain2, yTrain2)\n",
    "logisticRegr3 = LogisticRegression(solver='liblinear')\n",
    "logisticRegr3.fit(xTrain3, yTrain3)\n",
    "logisticRegr4 = LogisticRegression(solver='liblinear')\n",
    "logisticRegr4.fit(xTrain4, yTrain4)"
   ]
  },
  {
   "cell_type": "code",
   "execution_count": null,
   "metadata": {},
   "outputs": [],
   "source": [
    "score1 = logisticRegr1.score(xTest, yTest)\n",
    "print(score1)"
   ]
  },
  {
   "cell_type": "code",
   "execution_count": null,
   "metadata": {},
   "outputs": [],
   "source": [
    "score2 = logisticRegr2.score(xTest, yTest)\n",
    "print(score2)"
   ]
  },
  {
   "cell_type": "code",
   "execution_count": null,
   "metadata": {},
   "outputs": [],
   "source": [
    "score3 = logisticRegr3.score(xTest, yTest)\n",
    "print(score3)"
   ]
  },
  {
   "cell_type": "code",
   "execution_count": null,
   "metadata": {},
   "outputs": [],
   "source": [
    "score4 = logisticRegr4.score(xTest, yTest)\n",
    "print(score4)"
   ]
  },
  {
   "cell_type": "code",
   "execution_count": null,
   "metadata": {},
   "outputs": [],
   "source": []
  }
 ],
 "metadata": {
  "kernelspec": {
   "display_name": "Python 3",
   "language": "python",
   "name": "python3"
  },
  "language_info": {
   "codemirror_mode": {
    "name": "ipython",
    "version": 3
   },
   "file_extension": ".py",
   "mimetype": "text/x-python",
   "name": "python",
   "nbconvert_exporter": "python",
   "pygments_lexer": "ipython3",
   "version": "3.7.3"
  }
 },
 "nbformat": 4,
 "nbformat_minor": 2
}
